{
 "cells": [
  {
   "cell_type": "code",
   "execution_count": 20,
   "metadata": {},
   "outputs": [
    {
     "name": "stdout",
     "output_type": "stream",
     "text": [
      "1\n",
      "2\n",
      "Fizz\n",
      "4\n",
      "Buzz\n",
      "Fizz\n",
      "7\n",
      "8\n",
      "Fizz\n",
      "Buzz\n",
      "11\n",
      "Fizz\n",
      "13\n",
      "14\n",
      "Fizz\n",
      "16\n",
      "17\n",
      "Fizz\n",
      "19\n",
      "Buzz\n",
      "Fizz\n",
      "22\n",
      "23\n",
      "Fizz\n",
      "Buzz\n",
      "26\n",
      "Fizz\n",
      "28\n",
      "29\n",
      "Fizz\n",
      "31\n",
      "32\n",
      "Fizz\n",
      "34\n",
      "Buzz\n",
      "Fizz\n",
      "37\n",
      "38\n",
      "Fizz\n",
      "Buzz\n",
      "41\n",
      "Fizz\n",
      "43\n",
      "44\n",
      "Fizz\n",
      "46\n",
      "47\n",
      "Fizz\n",
      "49\n",
      "Buzz\n",
      "Fizz\n",
      "52\n",
      "53\n",
      "Fizz\n",
      "Buzz\n",
      "56\n",
      "Fizz\n",
      "58\n",
      "59\n",
      "Fizz\n",
      "61\n",
      "62\n",
      "Fizz\n",
      "64\n",
      "Buzz\n",
      "Fizz\n",
      "67\n",
      "68\n",
      "Fizz\n",
      "Buzz\n",
      "71\n",
      "Fizz\n",
      "73\n",
      "74\n",
      "Fizz\n",
      "76\n",
      "77\n",
      "Fizz\n",
      "79\n",
      "Buzz\n",
      "Fizz\n",
      "82\n",
      "83\n",
      "Fizz\n",
      "Buzz\n",
      "86\n",
      "Fizz\n",
      "88\n",
      "89\n",
      "Fizz\n",
      "91\n",
      "92\n",
      "Fizz\n",
      "94\n",
      "Buzz\n",
      "Fizz\n",
      "97\n",
      "98\n",
      "Fizz\n",
      "Buzz\n"
     ]
    }
   ],
   "source": [
    "# Question 1: FizzBuzz\n",
    "# Print numbers from 1 to 100.\n",
    "# If a number is a multiple of 3, print \"Fizz\".\n",
    "# If a number is a multiple of 5, print \"Buzz\".\n",
    "# If a number is a multiple of both 3 and 5, print \"FizzBuzz\".\n",
    "for i in range(1, 101):\n",
    "    if i % 3 == 0:\n",
    "        print(\"Fizz\")\n",
    "    elif i % 5 == 0:\n",
    "        print(\"Buzz\")\n",
    "    elif i % 3 == 0 and i % 5 == 0:\n",
    "        print(\"FizzBuzz\")\n",
    "    else:\n",
    "        print(i)"
   ]
  },
  {
   "cell_type": "code",
   "execution_count": 21,
   "metadata": {},
   "outputs": [
    {
     "name": "stdout",
     "output_type": "stream",
     "text": [
      "[0, 1, 1, 2, 3, 5, 8, 13, 21, 34, 55, 89]\n"
     ]
    }
   ],
   "source": [
    "# Question 2: Fibonacci Sequence\n",
    "# A program to generate the Fibonacci sequence up to 100.\n",
    "def fibonacci_sequence(limit):\n",
    "    fib_sequence = [0, 1]\n",
    "    while True:\n",
    "        next_fib = fib_sequence[-1] + fib_sequence[-2]\n",
    "        if next_fib > limit:\n",
    "            break\n",
    "        fib_sequence.append(next_fib)\n",
    "    return fib_sequence\n",
    "\n",
    "# Print Fibonacci sequence up to 100\n",
    "print(fibonacci_sequence(100))"
   ]
  },
  {
   "cell_type": "code",
   "execution_count": 22,
   "metadata": {},
   "outputs": [
    {
     "name": "stdout",
     "output_type": "stream",
     "text": [
      "42 is not a power of two.\n"
     ]
    }
   ],
   "source": [
    "# Question 3: Power of Two\n",
    "# Check if a given number is a power of two.\n",
    "def is_power_of_two(n):\n",
    "    if n <= 0: #If n is 0 or negative it is not a power of 2 \n",
    "        return False\n",
    "    return (n & (n - 1)) == 0\n",
    "\n",
    "# Example\n",
    "number = 42\n",
    "if is_power_of_two(number):\n",
    "    print(f\"{number} is a power of two.\")\n",
    "else:\n",
    "    print(f\"{number} is not a power of two.\")\n"
   ]
  },
  {
   "cell_type": "code",
   "execution_count": 23,
   "metadata": {},
   "outputs": [
    {
     "name": "stdout",
     "output_type": "stream",
     "text": [
      "Teach2give Software Development\n"
     ]
    }
   ],
   "source": [
    "# Question 4: Capitalize Words\n",
    "# Capitalize the first letter of each word in a given string.\n",
    "def capitalize_words(s):\n",
    "    return ' '.join(word.capitalize() for word in s.split())\n",
    "\n",
    "# Example \n",
    "text = \"teach2give software development\"\n",
    "print(capitalize_words(text)) "
   ]
  },
  {
   "cell_type": "code",
   "execution_count": 24,
   "metadata": {},
   "outputs": [
    {
     "name": "stdout",
     "output_type": "stream",
     "text": [
      "-34\n"
     ]
    }
   ],
   "source": [
    "# Question 5: Reverse Integer\n",
    "# Reverse the digits of an integer while maintaining its sign.\n",
    "# Reverse an integer using a while loop\n",
    "def reverse_integer(n):\n",
    "    is_negative = n < 0  # Check if the number is negative\n",
    "    n = abs(n)  \n",
    "    reversed_num = 0  \n",
    "\n",
    "    while n > 0:\n",
    "        digit = n % 10  \n",
    "        reversed_num = reversed_num * 10 + digit  # Shift digits and add new one\n",
    "        n //= 10  \n",
    "\n",
    "    return -reversed_num if is_negative else reversed_num  # Restore sign if negative\n",
    "\n",
    "# Example\n",
    "print(reverse_integer(-43))  # Returns -34"
   ]
  },
  {
   "cell_type": "code",
   "execution_count": 25,
   "metadata": {},
   "outputs": [
    {
     "name": "stdout",
     "output_type": "stream",
     "text": [
      "12\n"
     ]
    }
   ],
   "source": [
    "# Question 6: Count Vowels\n",
    "# Count the number of vowels (a, e, i, o, u) in a given string.\n",
    "def count_vowels(s):\n",
    "    vowels = \"aeiouAEIOU\"\n",
    "    return sum(1 for char in s if char in vowels)\n",
    "\n",
    "# Example usage\n",
    "print(count_vowels(\"Training  opportunity at Teach2Give\")) "
   ]
  }
 ],
 "metadata": {
  "kernelspec": {
   "display_name": "Python 3",
   "language": "python",
   "name": "python3"
  },
  "language_info": {
   "codemirror_mode": {
    "name": "ipython",
    "version": 3
   },
   "file_extension": ".py",
   "mimetype": "text/x-python",
   "name": "python",
   "nbconvert_exporter": "python",
   "pygments_lexer": "ipython3",
   "version": "3.12.9"
  }
 },
 "nbformat": 4,
 "nbformat_minor": 2
}
